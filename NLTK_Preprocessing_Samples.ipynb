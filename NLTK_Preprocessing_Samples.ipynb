{
  "nbformat": 4,
  "nbformat_minor": 0,
  "metadata": {
    "colab": {
      "name": "NLTK Preprocessing Samples",
      "version": "0.3.2",
      "views": {},
      "default_view": {},
      "provenance": []
    },
    "kernelspec": {
      "name": "python3",
      "display_name": "Python 3"
    }
  },
  "cells": [
    {
      "metadata": {
        "id": "cjyPyhZb_hB7",
        "colab_type": "text"
      },
      "cell_type": "markdown",
      "source": [
        "TEXT PROCESSING FEATURES:\n",
        "\n",
        "\n",
        "**Basic feature extraction using text data**\n",
        "\n",
        "Number of words\n",
        "\n",
        "Number of characters\n",
        "\n",
        "Average word length\n",
        "\n",
        "Number of stopwords\n",
        "\n",
        "Number of special characters\n",
        "\n",
        "Number of numerics\n",
        "\n",
        "Number of uppercase words\n",
        "\n",
        "**Basic Text Pre-processing of text data**\n",
        "\n",
        "Lower casing\n",
        "\n",
        "Punctuation removal\n",
        "\n",
        "Stopwords removal\n",
        "\n",
        "Frequent words removal\n",
        "\n",
        "Rare words removal\n",
        "\n",
        "Spelling correction\n",
        "\n",
        "Tokenization\n",
        "\n",
        "Stemming\n",
        "\n",
        "Lemmatization\n",
        "\n",
        "**Advance Text Processing**\n",
        "\n",
        "N-grams\n",
        "\n",
        "Term Frequency\n",
        "\n",
        "Inverse Document Frequency\n",
        "\n",
        "Term Frequency-Inverse Document Frequency (TF-IDF)\n",
        "\n",
        "Bag of Words\n",
        "\n",
        "Sentiment Analysis\n",
        "\n",
        "Word Embedding"
      ]
    },
    {
      "metadata": {
        "id": "hMJui_Wz_gU4",
        "colab_type": "code",
        "colab": {
          "autoexec": {
            "startup": false,
            "wait_interval": 0
          }
        }
      },
      "cell_type": "code",
      "source": [
        ""
      ],
      "execution_count": 0,
      "outputs": []
    }
  ]
}